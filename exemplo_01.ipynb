{
  "nbformat": 4,
  "nbformat_minor": 0,
  "metadata": {
    "colab": {
      "name": "exemplo_01.ipynb",
      "provenance": [],
      "authorship_tag": "ABX9TyOKKJMTcikFi7qmfWtBJG6Q",
      "include_colab_link": true
    },
    "kernelspec": {
      "name": "python3",
      "display_name": "Python 3"
    }
  },
  "cells": [
    {
      "cell_type": "markdown",
      "metadata": {
        "id": "view-in-github",
        "colab_type": "text"
      },
      "source": [
        "<a href=\"https://colab.research.google.com/github/carlosmarcolino/repo01/blob/master/exemplo_01.ipynb\" target=\"_parent\"><img src=\"https://colab.research.google.com/assets/colab-badge.svg\" alt=\"Open In Colab\"/></a>"
      ]
    },
    {
      "cell_type": "code",
      "metadata": {
        "id": "qsMiHlVIwyoc",
        "colab_type": "code",
        "colab": {
          "base_uri": "https://localhost:8080/",
          "height": 51
        },
        "outputId": "a9ee7952-8308-49b4-f124-bfc30a90cd3b"
      },
      "source": [
        "### Isto é um comando de saída\n",
        "print('Ola Mundo Cruel')\n",
        "print('Cruel World')"
      ],
      "execution_count": 1,
      "outputs": [
        {
          "output_type": "stream",
          "text": [
            "Ola Mundo Cruel\n",
            "Cruel World\n"
          ],
          "name": "stdout"
        }
      ]
    },
    {
      "cell_type": "markdown",
      "metadata": {
        "id": "HoVGYK3h4lZQ",
        "colab_type": "text"
      },
      "source": [
        ""
      ]
    }
  ]
}